{
 "cells": [
  {
   "cell_type": "markdown",
   "id": "cb43849a-0922-4e62-b293-b2e057706ea5",
   "metadata": {},
   "source": [
    "# Project 5 - Semi-Supervised Image Classification using a CNN"
   ]
  },
  {
   "cell_type": "markdown",
   "id": "8647c039-31ce-42ff-8742-779810c0f2e9",
   "metadata": {},
   "source": [
    "## Abstract\n",
    "\n",
    "This project focuses on semi-supervised image classification using the CIFAR-10 dataset. With only a subset of the images having known labels, the objective is to leverage unlabeled examples to improve classification accuracy. The approach involves using clustering and iterative training to infer labels on unlabeled data, then investigating whether this improves the accuracy of a CNN model trained from scratch.\n",
    "\n",
    "To achieve this, the project first experiments with dimensionality reduction using PCA and K-means clustering to estimate class labels on unlabeled data. The project compares clustering with PCA to clustering using embeddings from pretrained models, and uses the most effective approach in the CNN.\n",
    "\n",
    "In the second stage, the project investigates whether inferred labels can improve the classification accuracy of a CNN model trained from scratch. The project uses three experimental models to compare the effects of adding inferred labels to the training dataset. Model A trains the CNN only on data with known class labels, while Model B trains the CNN on data with known class labels and labels inferred using KMeans clustering on embeddings. Finally, Model C trains the CNN on data with known class labels and labels inferred using Model A."
   ]
  },
  {
   "cell_type": "markdown",
   "id": "2ab56ba6-94c8-42a1-acc9-5fa3f1e602b7",
   "metadata": {},
   "source": [
    "### Team Members and Contributions"
   ]
  },
  {
   "cell_type": "markdown",
   "id": "f349f2dd-46c0-4808-9596-c3b66d924bc9",
   "metadata": {
    "tags": []
   },
   "source": [
    "- Manveer Singh Tamber (mtamber@uwaterloo.ca)\n",
    "    - Devised experiments for investigating the importance of using inferred labels for training CNNs to make classifications. \n",
    "    - Wrote model training and evaluation code within the three experimental settings\n",
    "    - Generated and compared model results across different M values\n",
    "- Jagvir Dehal (jdehal@uwaterloo.ca)\n",
    "    - Worked on normalizing and reducing the images using PCA, and clustering these using K-means.\n",
    "    - Alongside clustering, created a function that generates a mapping to the real labels using ground truth labels we have\n",
    "    - Investigated the use of different pre-trained models for embeddings vs. the PCA reduction\n",
    "    \n",
    "Overall, the contributions through discussion and cross-checking code was 50/50."
   ]
  },
  {
   "cell_type": "markdown",
   "id": "698ff8bb-0ba6-4ad1-b4b7-007ea7d08ccd",
   "metadata": {},
   "source": [
    "### Code Libraries"
   ]
  },
  {
   "cell_type": "markdown",
   "id": "6dd100eb-e495-4e32-9b9f-5553d48b9197",
   "metadata": {},
   "source": [
    "#### Pytorch [(site)](https://pytorch.org/get-started/locally/)\n",
    "\n",
    "PyTorch (`torch`/`torchvision`) was used to define, train, and evaluate the CNN models\n",
    "`torchsummary` was used to output the details of the CNN model\n",
    "\n",
    "Install command: ```pip3 install torch torchvision torchsummary```\n",
    "\n",
    "#### Keras [(site)](https://keras.io/getting_started/)\n",
    "\n",
    "Keras was used for the CIFAR-10 dataset, along with running the pretrained models (VGG16, VGG19, EfficientNetV2B2)\n",
    "\n",
    "Install command: `pip3 install tensorflow`\n",
    "\n",
    "#### sklearn [(site)](https://scikit-learn.org/stable/index.html)\n",
    "\n",
    "sklearn was used for the PCA and KMeans functions\n",
    "\n",
    "Install command: `pip install -U scikit-learn`"
   ]
  },
  {
   "cell_type": "markdown",
   "id": "f4b04234-4739-491a-8970-d72398970ce7",
   "metadata": {},
   "source": [
    "## Initialization"
   ]
  },
  {
   "cell_type": "code",
   "execution_count": 1,
   "id": "2e3bd3a7",
   "metadata": {
    "tags": []
   },
   "outputs": [
    {
     "name": "stderr",
     "output_type": "stream",
     "text": [
      "2023-04-26 18:14:36.511507: I tensorflow/core/platform/cpu_feature_guard.cc:193] This TensorFlow binary is optimized with oneAPI Deep Neural Network Library (oneDNN) to use the following CPU instructions in performance-critical operations:  AVX2 FMA\n",
      "To enable them in other operations, rebuild TensorFlow with the appropriate compiler flags.\n",
      "2023-04-26 18:14:37.292127: W tensorflow/compiler/xla/stream_executor/platform/default/dso_loader.cc:64] Could not load dynamic library 'libnvinfer.so.7'; dlerror: libnvinfer.so.7: cannot open shared object file: No such file or directory; LD_LIBRARY_PATH: /usr/local/cuda-11.4/lib64:/usr/local/cuda-11.7/lib64\n",
      "2023-04-26 18:14:37.292209: W tensorflow/compiler/xla/stream_executor/platform/default/dso_loader.cc:64] Could not load dynamic library 'libnvinfer_plugin.so.7'; dlerror: libnvinfer_plugin.so.7: cannot open shared object file: No such file or directory; LD_LIBRARY_PATH: /usr/local/cuda-11.4/lib64:/usr/local/cuda-11.7/lib64\n",
      "2023-04-26 18:14:37.292217: W tensorflow/compiler/tf2tensorrt/utils/py_utils.cc:38] TF-TRT Warning: Cannot dlopen some TensorRT libraries. If you would like to use Nvidia GPU with TensorRT, please make sure the missing libraries mentioned above are installed properly.\n"
     ]
    }
   ],
   "source": [
    "from matplotlib import pyplot as plt\n",
    "import numpy as np\n",
    "import copy\n",
    "\n",
    "# Loading CIFAR-10\n",
    "from keras.datasets import cifar10 as dataset\n",
    "\n",
    "# PCA function\n",
    "from sklearn.decomposition import PCA\n",
    "\n",
    "# Clustering functions\n",
    "from sklearn.cluster import KMeans"
   ]
  },
  {
   "cell_type": "markdown",
   "id": "129e94ab-6ce4-41dd-8a8d-83867213ddf5",
   "metadata": {},
   "source": [
    "### Load data from keras.datasets\n",
    "\n",
    "Data is loaded into variables train_X, train_y (for training data and labels) and test_X, test_y (for test data and labels)"
   ]
  },
  {
   "cell_type": "code",
   "execution_count": 2,
   "id": "fd82c203",
   "metadata": {
    "tags": []
   },
   "outputs": [
    {
     "name": "stdout",
     "output_type": "stream",
     "text": [
      "Data shape:\n"
     ]
    },
    {
     "data": {
      "text/plain": [
       "(50000, 32, 32, 3)"
      ]
     },
     "metadata": {},
     "output_type": "display_data"
    },
    {
     "data": {
      "text/plain": [
       "(10000, 32, 32, 3)"
      ]
     },
     "metadata": {},
     "output_type": "display_data"
    },
    {
     "name": "stdout",
     "output_type": "stream",
     "text": [
      "\n",
      "Labels shape:\n"
     ]
    },
    {
     "data": {
      "text/plain": [
       "(50000,)"
      ]
     },
     "metadata": {},
     "output_type": "display_data"
    },
    {
     "data": {
      "text/plain": [
       "(10000,)"
      ]
     },
     "metadata": {},
     "output_type": "display_data"
    }
   ],
   "source": [
    "(train_X, train_y), (test_X, test_y) = dataset.load_data()\n",
    "\n",
    "train_y = train_y[:,0]\n",
    "test_y = test_y[:,0]\n",
    "\n",
    "print(\"Data shape:\")\n",
    "display(np.shape(train_X), np.shape(test_X))\n",
    "print(\"\\nLabels shape:\")\n",
    "display(np.shape(train_y), np.shape(test_y))"
   ]
  },
  {
   "cell_type": "markdown",
   "id": "e5320149-d847-4587-b5fa-35c13d2f465d",
   "metadata": {},
   "source": [
    "### Display data\n",
    "\n",
    "Quick display of a random sample of data with their associated labels. CIFAR-10 is a data set of 32x32 RGB images of airplanes, automobiles, etc. as shown below."
   ]
  },
  {
   "cell_type": "code",
   "execution_count": 3,
   "id": "b3198369-3dce-4266-92bd-799640674e96",
   "metadata": {
    "tags": []
   },
   "outputs": [
    {
     "data": {
      "image/png": "[encoded data removed]",
      "text/plain": [
       "<Figure size 432x288 with 4 Axes>"
      ]
     },
     "metadata": {
      "needs_background": "light"
     },
     "output_type": "display_data"
    }
   ],
   "source": [
    "# Translation dictionary to go from the label values to their corresponding English text\n",
    "idx_to_class = {\n",
    "    0: \"Airplane\",\n",
    "    1: \"Automobile\",\n",
    "    2: \"Bird\",\n",
    "    3: \"Cat\",\n",
    "    4: \"Deer\",\n",
    "    5: \"Dog\",\n",
    "    6: \"Frog\",\n",
    "    7: \"Horse\",\n",
    "    8: \"Ship\",\n",
    "    9: \"Truck\"\n",
    "}\n",
    "\n",
    "classes = idx_to_class.values()\n",
    "num_labels = len(classes)\n",
    "\n",
    "for index, img in enumerate(np.random.choice(len(train_X), 4, replace=False)):\n",
    "    plt.subplot(141 + index)\n",
    "    plt.imshow(train_X[img])\n",
    "    plt.title(idx_to_class[train_y[img]])\n",
    "plt.show()"
   ]
  },
  {
   "cell_type": "markdown",
   "id": "c9939381-096f-4044-82c7-40dc7513686d",
   "metadata": {},
   "source": [
    "### Select M labels\n",
    "\n",
    "Here we select M images out of the training data, and call them `known_X`. These data points have the associated ground truth labels of `known_y`. The rest of the data is assumed to have no ground truth labels and are called `unknown_X`. However, to measure the accuracy of our learning models, we keep the unknown labels as `unknown_y`."
   ]
  },
  {
   "cell_type": "code",
   "execution_count": 4,
   "id": "9b0c1ca1-b2d2-4aa9-a889-ae4f0b25a55e",
   "metadata": {
    "tags": []
   },
   "outputs": [],
   "source": [
    "M = 5000\n",
    "\n",
    "known_X = train_X[:M]\n",
    "unknown_X = train_X[M:]\n",
    "\n",
    "known_y = known_labels = train_y[:M]\n",
    "unknown_y = unknown_labels = train_y[M:]"
   ]
  },
  {
   "cell_type": "markdown",
   "id": "ba13a4f8-119e-44a9-ad9d-f06f5954e08b",
   "metadata": {},
   "source": [
    "## PCA Reduction\n",
    "\n",
    "We run a linear dimentionality reduction (PCA) on the training and test data to visualize, cluster, and overall reduce the dimensionality of the images. The reduction returns the components in order of decreasing explained variance (the amount of variance explained by each component), so our visualizations use the first two components."
   ]
  },
  {
   "cell_type": "markdown",
   "id": "91915fea-b938-43b3-8c67-d5828aad33b7",
   "metadata": {
    "tags": []
   },
   "source": [
    "### Normalize the data\n",
    "\n",
    "Before we can run our PCA reduction, we need to normalize the data to float values between 0 and 1. This is for both the PCA reduction we are running now, and for the deep learning models we will run later on. We will also keep a copy of the data pre-normalization to be used in the pretrained models (as they have their own preprocessing functions)."
   ]
  },
  {
   "cell_type": "code",
   "execution_count": 5,
   "id": "08ffb3fd-169f-4e65-9ff1-374a9502c8fe",
   "metadata": {
    "tags": []
   },
   "outputs": [],
   "source": [
    "# Raw values are used for the pretrained models\n",
    "train_X_raw = copy.deepcopy(train_X)\n",
    "\n",
    "# Assuming max value is 255\n",
    "train_X = train_X / np.max(train_X)\n",
    "test_X = test_X / np.max(test_X)\n",
    "known_X = known_X / np.max(known_X)\n",
    "unknown_X = unknown_X / np.max(unknown_X)"
   ]
  },
  {
   "cell_type": "markdown",
   "id": "cce0dca7-882d-4405-b1f5-734eb5fc626f",
   "metadata": {},
   "source": [
    "This is the actual `pca_reduction` function. We use enough components to capture 80% of the variance in the data."
   ]
  },
  {
   "cell_type": "code",
   "execution_count": 6,
   "id": "1335c93f-cce8-4233-9a4d-a5423a9bc5b2",
   "metadata": {
    "tags": []
   },
   "outputs": [
    {
     "name": "stdout",
     "output_type": "stream",
     "text": [
      "Num components: 33\n"
     ]
    }
   ],
   "source": [
    "def pca_reduction(variance, train_X=train_X, test_X=test_X, train_y=train_y, test_y=test_y):\n",
    "    # Flatten images\n",
    "    train_X_flat = train_X.reshape(-1, np.prod(train_X.shape[1:]))\n",
    "    test_X_flat = test_X.reshape(-1, np.prod(test_X.shape[1:]))\n",
    "    \n",
    "    # Fit the PCA\n",
    "    pca = PCA(n_components=variance, whiten=True)\n",
    "    pca.fit(train_X_flat)\n",
    "    print(\"Num components:\", pca.n_components_)\n",
    "    \n",
    "    # Transform the data\n",
    "    train_img_pca = pca.transform(train_X_flat)\n",
    "    test_img_pca = pca.transform(test_X_flat)\n",
    "    \n",
    "    return (train_img_pca, test_img_pca)\n",
    "\n",
    "(train_img_pca, test_img_pca) = pca_reduction(variance=0.8)"
   ]
  },
  {
   "cell_type": "markdown",
   "id": "aa5c8d8c-646c-4689-a84d-74bf7b0355ac",
   "metadata": {},
   "source": [
    "We split the pca result into its own known and unknown arrays and graph the two principal components."
   ]
  },
  {
   "cell_type": "code",
   "execution_count": 7,
   "id": "5fd42da0-2234-43a6-9ed0-7c9a3492ffa8",
   "metadata": {
    "tags": []
   },
   "outputs": [],
   "source": [
    "known_img_pca = train_img_pca[:M]\n",
    "unknown_img_pca = train_img_pca[M:]"
   ]
  },
  {
   "cell_type": "code",
   "execution_count": 8,
   "id": "04ac3d0c-754f-43de-8b39-5cc3736783b6",
   "metadata": {
    "tags": []
   },
   "outputs": [
    {
     "data": {
      "image/png": "[encoded data removed]",
      "text/plain": [
       "<Figure size 432x288 with 1 Axes>"
      ]
     },
     "metadata": {
      "needs_background": "light"
     },
     "output_type": "display_data"
    }
   ],
   "source": [
    "plt.title(\"Visualizing ground truth training data with the two principal components\")\n",
    "plt.scatter(known_img_pca[:,0], known_img_pca[:,1], c=known_labels)\n",
    "plt.show()"
   ]
  },
  {
   "cell_type": "markdown",
   "id": "01e39392-7367-4c12-8988-6f18a1f79c1d",
   "metadata": {},
   "source": [
    "## K-means clustering"
   ]
  },
  {
   "cell_type": "markdown",
   "id": "75760c67-5d73-437f-b760-79bffe915e5b",
   "metadata": {},
   "source": [
    "Here we define two functions, `run_clustering` (the K-means clustering function) and `generate_guesses` (a function that takes the clusters from K-means and guesses their associated ground-truth labels).\n",
    "\n",
    "`run_clustering` simply clusters the fit_data using K-means, and predicts the closest cluster that each sample in predict_data (our unknown/unlabelled data) belongs to. It then gets a mapping from the K-means clusters to predicted labels using `generate_guesses`, and measures the accuracy of these predicted labels using the ground truth labels. Finally, it returns the predicted labels (for use in graphing).\n",
    "\n",
    "`generate_guesses` is used to produce a best guess for a cluster-label map. There are two approaches that we implemented.\n",
    "\n",
    "The **first approach** involves mapping each cluster to the label that appears most within that cluster. This gives us a mapping that doesn't usually use all of the labels, but will give us the highest accuracy overall. This is because some labels get more evenly distributed between the clusters, meaning their count wont be as high in any cluster, and thus won't be assigned. However, although some labels won't have an associated cluster, each cluster that gets mapped will correctly asseses the highest number of labels it can, thus leading to a higher accuracy overall.\n",
    "    \n",
    "The **second approach** involves creating a cluster-label array in which the rows are the cluster # and the cols are the label #. The values of the array are the # of occurences of the label in the cluster. We take the highest cluster-label pair in the array and assign the cluster its corresponding label. Then, we remove both the cluster and label from the array (effectively reducing the size to 9x9), and take the next highest cluster-label pair. We repeat this until the array is empty, giving us a one-to-one mapping of clusters to labels. However, this removes many cluster-label pairings each iteration, which leads to many higher value mappings to not be considered. Thus, the overall accuracy will be lower than our maximal approach (approach 1)\n",
    "    \n",
    "With this information, **we decided to go with approach \\#1** for maximal accuracy., but have left approach \\#2's code in the function so that it can easily be used by returning `alt_guess` from the function instead of `guess`."
   ]
  },
  {
   "cell_type": "code",
   "execution_count": 9,
   "id": "bd3614bb-383d-481b-ba96-705070622c54",
   "metadata": {},
   "outputs": [],
   "source": [
    "def generate_guesses(kmeans, known_labels, num_labels):\n",
    "    guess = {}\n",
    "    cluster_bins = np.zeros((kmeans.n_clusters, num_labels), dtype=\"int\")\n",
    "    \n",
    "    for cluster in range(kmeans.n_clusters):\n",
    "        # get all points in cluster\n",
    "        index = np.where(kmeans.labels_ == cluster)\n",
    "        labels = known_labels[index]\n",
    "        \n",
    "        # find the most likely label for the cluster and set the guess\n",
    "        cluster_bins[cluster] = np.bincount(labels, minlength=10)\n",
    "        guess[cluster] = np.argmax(cluster_bins[cluster])\n",
    "    \n",
    "    # Experimental alternative method to guessing the cluster->label mapping\n",
    "    # This method gives a one-to-one mapping between them\n",
    "    #print(cluster_bins)\n",
    "    alt_guess = {}\n",
    "    for i in range(num_labels):\n",
    "        opt_idx = np.unravel_index(cluster_bins.argmax(), cluster_bins.shape)\n",
    "        cluster_bins[opt_idx[0],:] = -1\n",
    "        cluster_bins[:, opt_idx[1]] = -1\n",
    "        alt_guess[opt_idx[0]] = opt_idx[1]\n",
    "    \n",
    "    return guess"
   ]
  },
  {
   "cell_type": "code",
   "execution_count": 10,
   "id": "eb9f55d2-b4e4-4d6a-b890-c9b180784a7c",
   "metadata": {
    "tags": []
   },
   "outputs": [],
   "source": [
    "def run_clustering(fit_data, predict_data, labels=known_y, unknown_labels=unknown_y, runs=10,\n",
    "                   n_clusters=10, sample_size=M, num_labels=num_labels, seed=0):\n",
    "    kmeans = KMeans(n_clusters=n_clusters, random_state=seed, n_init=runs)\n",
    "    kmeans.fit(fit_data)\n",
    "    \n",
    "    cluster_to_label = generate_guesses(kmeans, labels, num_labels)\n",
    "    guess_labels = np.vectorize(lambda x: cluster_to_label[x])\n",
    "    \n",
    "    prediction = kmeans.predict(predict_data)\n",
    "    predicted_labels = guess_labels(prediction)\n",
    "    print(\"Labels used:\")\n",
    "    display(np.unique(predicted_labels))\n",
    "    print()\n",
    "    \n",
    "    print(\"Accuracy of clustering:\")\n",
    "    display(np.sum(unknown_labels == predicted_labels) / len(unknown_labels))\n",
    "    \n",
    "    return predicted_labels"
   ]
  },
  {
   "cell_type": "markdown",
   "id": "c7085066-8a5b-4670-86bc-d118d7371408",
   "metadata": {},
   "source": [
    "### Running K-means on the PCA reduction"
   ]
  },
  {
   "cell_type": "markdown",
   "id": "c9fc7761-78a2-4ef9-8502-6a8f1f0d41e1",
   "metadata": {},
   "source": [
    "Now we run the K-means clustering on our PCA reduction. Built into the function is an accuracy measurement, so we can see the accuracy of using the raw PCA features in K-means is about 22.4%. This does fluctuate between runs on the same data, but we can reproduce the results by using a set seed for the K-means clustering (default 0)."
   ]
  },
  {
   "cell_type": "code",
   "execution_count": 11,
   "id": "1ea0ba47-677b-408e-8c83-2579b86f9df1",
   "metadata": {
    "tags": []
   },
   "outputs": [
    {
     "name": "stdout",
     "output_type": "stream",
     "text": [
      "Labels used:\n"
     ]
    },
    {
     "data": {
      "text/plain": [
       "array([0, 1, 3, 4, 5, 7, 8, 9])"
      ]
     },
     "metadata": {},
     "output_type": "display_data"
    },
    {
     "name": "stdout",
     "output_type": "stream",
     "text": [
      "\n",
      "Accuracy of clustering:\n"
     ]
    },
    {
     "data": {
      "text/plain": [
       "0.22384444444444446"
      ]
     },
     "metadata": {},
     "output_type": "display_data"
    }
   ],
   "source": [
    "pca_labels = run_clustering(known_img_pca, unknown_img_pca)"
   ]
  },
  {
   "cell_type": "code",
   "execution_count": 12,
   "id": "c0605162-4a8a-4eb8-bbad-d5373f7a0652",
   "metadata": {
    "tags": []
   },
   "outputs": [
    {
     "data": {
      "image/png": "[encoded data removed]",
      "text/plain": [
       "<Figure size 432x288 with 2 Axes>"
      ]
     },
     "metadata": {
      "needs_background": "light"
     },
     "output_type": "display_data"
    }
   ],
   "source": [
    "plt.subplot(221)\n",
    "plt.title(\"Real labels\")\n",
    "plt.scatter(unknown_img_pca[:,0], unknown_img_pca[:,1], c=unknown_labels)\n",
    "plt.subplot(222)\n",
    "plt.title(\"K-means cluster guesses\")\n",
    "plt.scatter(unknown_img_pca[:,0], unknown_img_pca[:,1], c=pca_labels)\n",
    "plt.show()"
   ]
  },
  {
   "cell_type": "markdown",
   "id": "3b5fc9ab-46f1-42f3-b126-5deb61eefa26",
   "metadata": {},
   "source": [
    "## Pre-trained models"
   ]
  },
  {
   "cell_type": "markdown",
   "id": "a3329c18",
   "metadata": {},
   "source": [
    "The `get_embeddings` function takes a Pretrained Model, a preprocessing function, and raw image data to compute the embeddings of all the images under the pretrained model. Below we use the VGG16, VGG19, and EfficientNetV2B2 models and compare their overall speed and clustering accuracy, both between one another and PCA clustering."
   ]
  },
  {
   "cell_type": "code",
   "execution_count": 13,
   "id": "bde3d947-ba63-4ba1-acad-a09e50ba19fa",
   "metadata": {
    "tags": []
   },
   "outputs": [],
   "source": [
    "def get_embeddings(PreTrainedModel, preprocess, data=train_X_raw):\n",
    "    pt_model = PreTrainedModel(\n",
    "        include_top=False,\n",
    "        weights=\"imagenet\",\n",
    "        input_shape=train_X.shape[1:],\n",
    "        pooling=\"avg\"\n",
    "    )\n",
    "    \n",
    "    pt_train_X = copy.deepcopy(data)\n",
    "    if preprocess is not None:\n",
    "        pt_train_X = preprocess(pt_train_X)\n",
    "    \n",
    "    #print(\"Before/After preprocess:\")\n",
    "    #display(data[0,0,0])\n",
    "    #display(pt_train_X[0,0,0])\n",
    "    #print()\n",
    "    \n",
    "    pt_embeddings = pt_model.predict(pt_train_X)\n",
    "    return pt_embeddings"
   ]
  },
  {
   "cell_type": "markdown",
   "id": "c1a9657e-1970-4337-9869-080eca422b8c",
   "metadata": {},
   "source": [
    "### VGG 16"
   ]
  },
  {
   "cell_type": "markdown",
   "id": "aecc8916",
   "metadata": {},
   "source": [
    "We import and compute the vgg16 embeddings. Overall the accuracy of clustering using these is about 29.2%."
   ]
  },
  {
   "cell_type": "code",
   "execution_count": 14,
   "id": "7fa9ea9a-de2a-48f8-8bad-bcdca31fcf59",
   "metadata": {
    "tags": []
   },
   "outputs": [],
   "source": [
    "from keras.applications import VGG16, vgg16"
   ]
  },
  {
   "cell_type": "code",
   "execution_count": 15,
   "id": "d9b4c043-f90a-4469-b288-e53a8cb27443",
   "metadata": {
    "tags": []
   },
   "outputs": [
    {
     "name": "stderr",
     "output_type": "stream",
     "text": [
      "2023-04-26 18:15:23.280987: W tensorflow/compiler/xla/stream_executor/platform/default/dso_loader.cc:64] Could not load dynamic library 'libcudnn.so.8'; dlerror: libcudnn.so.8: cannot open shared object file: No such file or directory; LD_LIBRARY_PATH: /usr/local/cuda-11.4/lib64:/usr/local/cuda-11.7/lib64\n",
      "2023-04-26 18:15:23.281035: W tensorflow/core/common_runtime/gpu/gpu_device.cc:1934] Cannot dlopen some GPU libraries. Please make sure the missing libraries mentioned above are installed properly if you would like to use GPU. Follow the guide at https://www.tensorflow.org/install/gpu for how to download and setup the required libraries for your platform.\n",
      "Skipping registering GPU devices...\n"
     ]
    },
    {
     "name": "stdout",
     "output_type": "stream",
     "text": [
      "1563/1563 [==============================] - 92s 59ms/step\n"
     ]
    }
   ],
   "source": [
    "# Get feature embeddings\n",
    "vgg16_embeddings = get_embeddings(VGG16, vgg16.preprocess_input)"
   ]
  },
  {
   "cell_type": "code",
   "execution_count": 16,
   "id": "28af3d8b-bb90-4e65-8d57-333c38567829",
   "metadata": {
    "tags": []
   },
   "outputs": [
    {
     "name": "stdout",
     "output_type": "stream",
     "text": [
      "Labels used:\n"
     ]
    },
    {
     "data": {
      "text/plain": [
       "array([0, 1, 3, 4, 5, 6, 8, 9])"
      ]
     },
     "metadata": {},
     "output_type": "display_data"
    },
    {
     "name": "stdout",
     "output_type": "stream",
     "text": [
      "\n",
      "Accuracy of clustering:\n"
     ]
    },
    {
     "data": {
      "text/plain": [
       "0.29217777777777776"
      ]
     },
     "metadata": {},
     "output_type": "display_data"
    }
   ],
   "source": [
    "# Run clustering\n",
    "vgg16_known = vgg16_embeddings[:M]\n",
    "vgg16_unknown = vgg16_embeddings[M:]\n",
    "vgg16_labels = run_clustering(vgg16_known, vgg16_unknown)"
   ]
  },
  {
   "cell_type": "markdown",
   "id": "9838dec2-6c75-46f5-ac89-df1e3c0f7e0f",
   "metadata": {},
   "source": [
    "### VGG19"
   ]
  },
  {
   "cell_type": "markdown",
   "id": "971c8f3b",
   "metadata": {},
   "source": [
    "We import and compute the vgg19 embeddings. Overall the accuracy of clustering using these is about 30.6%."
   ]
  },
  {
   "cell_type": "code",
   "execution_count": 17,
   "id": "550a1516-f452-4c39-a8bb-88546918a6c5",
   "metadata": {
    "tags": []
   },
   "outputs": [],
   "source": [
    "from keras.applications import VGG19, vgg19"
   ]
  },
  {
   "cell_type": "code",
   "execution_count": 18,
   "id": "57aa64c4-9a0a-4f6e-86a4-f2f7cf238202",
   "metadata": {
    "tags": []
   },
   "outputs": [
    {
     "name": "stdout",
     "output_type": "stream",
     "text": [
      "1563/1563 [==============================] - 84s 53ms/step\n"
     ]
    }
   ],
   "source": [
    "vgg19_embeddings = get_embeddings(VGG19, vgg19.preprocess_input)"
   ]
  },
  {
   "cell_type": "code",
   "execution_count": 19,
   "id": "a6e044ee-e7bc-4c98-a842-6971ef5804a7",
   "metadata": {
    "tags": []
   },
   "outputs": [
    {
     "name": "stdout",
     "output_type": "stream",
     "text": [
      "Labels used:\n"
     ]
    },
    {
     "data": {
      "text/plain": [
       "array([0, 1, 4, 5, 6, 8, 9])"
      ]
     },
     "metadata": {},
     "output_type": "display_data"
    },
    {
     "name": "stdout",
     "output_type": "stream",
     "text": [
      "\n",
      "Accuracy of clustering:\n"
     ]
    },
    {
     "data": {
      "text/plain": [
       "0.30644444444444446"
      ]
     },
     "metadata": {},
     "output_type": "display_data"
    }
   ],
   "source": [
    "vgg19_known = vgg19_embeddings[:M]\n",
    "vgg19_unknown = vgg19_embeddings[M:]\n",
    "vgg19_labels = run_clustering(vgg19_known, vgg19_unknown)"
   ]
  },
  {
   "cell_type": "markdown",
   "id": "862c9847-fc31-44cf-ae3b-84f02439b703",
   "metadata": {},
   "source": [
    "### EfficientNet (B2)"
   ]
  },
  {
   "cell_type": "markdown",
   "id": "a156e299",
   "metadata": {},
   "source": [
    "We import and compute the ENET embeddings. Overall the accuracy of clustering using these is about 29.4%."
   ]
  },
  {
   "cell_type": "code",
   "execution_count": 20,
   "id": "851de471-502e-4a75-84bd-5f3774ed633a",
   "metadata": {
    "tags": []
   },
   "outputs": [],
   "source": [
    "from keras.applications import EfficientNetV2B2 as ENET"
   ]
  },
  {
   "cell_type": "code",
   "execution_count": 21,
   "id": "42856f2d-004e-4607-b497-f14e416e1011",
   "metadata": {
    "tags": []
   },
   "outputs": [
    {
     "name": "stdout",
     "output_type": "stream",
     "text": [
      "1563/1563 [==============================] - 36s 22ms/step\n"
     ]
    }
   ],
   "source": [
    "enet_embeddings = get_embeddings(ENET, None)"
   ]
  },
  {
   "cell_type": "code",
   "execution_count": 22,
   "id": "8dc4eeda-05af-4605-9b8e-f90fd75ff6c6",
   "metadata": {
    "tags": []
   },
   "outputs": [
    {
     "name": "stdout",
     "output_type": "stream",
     "text": [
      "Labels used:\n"
     ]
    },
    {
     "data": {
      "text/plain": [
       "array([0, 1, 3, 5, 6, 7, 8, 9])"
      ]
     },
     "metadata": {},
     "output_type": "display_data"
    },
    {
     "name": "stdout",
     "output_type": "stream",
     "text": [
      "\n",
      "Accuracy of clustering:\n"
     ]
    },
    {
     "data": {
      "text/plain": [
       "0.2935111111111111"
      ]
     },
     "metadata": {},
     "output_type": "display_data"
    }
   ],
   "source": [
    "enet_known = enet_embeddings[:M]\n",
    "enet_unknown = enet_embeddings[M:]\n",
    "enet_labels = run_clustering(enet_known, enet_unknown)"
   ]
  },
  {
   "cell_type": "markdown",
   "id": "8856f360",
   "metadata": {},
   "source": [
    "Clearly, any of the pretrained models we used here are significantly better than using the PCA data, with each of the embeddings being about 10% more accurate. Thus, we decided to proceed with one of the pretrained models for the deep learning section. The question is which one?\n",
    "\n",
    "The accuracies between VGG16, VGG19, and ENET are all within 1% of each other, so changing the seed can change which of these give the highest accuracy at any given time. Thus, it is hard to say objectively which is the best model for our use case. However, because of both its reliability between runs and its speed in generating the embeddings, we decided to proceed with using EfficientNetV2B2."
   ]
  },
  {
   "cell_type": "markdown",
   "id": "f80c5d4d-0652-427f-b48e-fe5e0f5ebbd1",
   "metadata": {
    "tags": [],
    "toc-hr-collapsed": true
   },
   "source": [
    "## Deep Learning"
   ]
  },
  {
   "cell_type": "markdown",
   "id": "97be1c3f-02db-4a18-92d1-8728113e48b9",
   "metadata": {},
   "source": [
    "##### Import Necessary Libraries for PyTorch"
   ]
  },
  {
   "cell_type": "code",
   "execution_count": 23,
   "id": "58235fd9-48e1-4323-b251-2a90fbefaa2e",
   "metadata": {
    "tags": []
   },
   "outputs": [],
   "source": [
    "import torch\n",
    "import torch.nn.functional as F\n",
    "import torchvision\n",
    "import torchvision.transforms as transforms\n",
    "from torchvision.transforms.functional import InterpolationMode\n",
    "from torch.utils.data import Dataset, DataLoader\n",
    "from torch import optim"
   ]
  },
  {
   "cell_type": "markdown",
   "id": "dca57d74-1200-413b-8d16-de59bfb726d9",
   "metadata": {},
   "source": [
    "##### Transformations for Training Image Augmentation\n",
    "The transformations used are a random horizontal flip with probability 0.5, a color jitter that randomly changes the brightness and contrast by a factor of 0.1 each, and a random affine transformation that randomly rotates the images up to 2 degrees in either direction and randomly translates the image by 1% in either direction. The transformations were found to be helpful in improving the accuracies of the trained models on the test set."
   ]
  },
  {
   "cell_type": "code",
   "execution_count": 24,
   "id": "17f01535-6e0c-43ba-a58c-698d2459db62",
   "metadata": {
    "tags": []
   },
   "outputs": [],
   "source": [
    "train_transform = transforms.Compose([transforms.RandomHorizontalFlip(), \n",
    "                                      transforms.ColorJitter(brightness=0.1, contrast=0.1),\n",
    "                                      transforms.RandomAffine(degrees=2, translate=(0.01, 0.01), interpolation=InterpolationMode.BILINEAR),\n",
    "                                    ])"
   ]
  },
  {
   "cell_type": "markdown",
   "id": "da3ec142-7f08-4157-8b57-08b061fb89f3",
   "metadata": {},
   "source": [
    "##### Perform Training on GPU if available"
   ]
  },
  {
   "cell_type": "code",
   "execution_count": 25,
   "id": "5a91e25c-3c3c-4a18-b1aa-68c724198ad1",
   "metadata": {
    "tags": []
   },
   "outputs": [
    {
     "data": {
      "text/plain": [
       "device(type='cuda')"
      ]
     },
     "execution_count": 25,
     "metadata": {},
     "output_type": "execute_result"
    }
   ],
   "source": [
    "device = torch.device('cuda' if torch.cuda.is_available() else 'cpu')\n",
    "device"
   ]
  },
  {
   "cell_type": "markdown",
   "id": "9206621c-0783-48a3-a54e-df3df2d02aee",
   "metadata": {},
   "source": [
    "##### Define CNN Model for Classification\n",
    "The CNN used has 4 convolutional layers and uses relu activation after each convolutional layer. Max pooling is performed after every 2 convolutional layers. After the convolutional layers the tensors are flattened, put through dropout regularization with probability 0.5, and are then put through 2 linear layers to get the final model output. "
   ]
  },
  {
   "cell_type": "code",
   "execution_count": 26,
   "id": "655bdbe6-234d-4e31-9c24-44962959d631",
   "metadata": {
    "tags": []
   },
   "outputs": [
    {
     "name": "stdout",
     "output_type": "stream",
     "text": [
      "----------------------------------------------------------------\n",
      "        Layer (type)               Output Shape         Param #\n",
      "================================================================\n",
      "            Conv2d-1           [-1, 16, 30, 30]             448\n",
      "            Conv2d-2           [-1, 32, 28, 28]           4,640\n",
      "         MaxPool2d-3           [-1, 32, 14, 14]               0\n",
      "            Conv2d-4           [-1, 32, 12, 12]           9,248\n",
      "            Conv2d-5           [-1, 16, 10, 10]           4,624\n",
      "         MaxPool2d-6             [-1, 16, 5, 5]               0\n",
      "           Dropout-7                  [-1, 400]               0\n",
      "            Linear-8                   [-1, 32]          12,832\n",
      "            Linear-9                   [-1, 10]             330\n",
      "================================================================\n",
      "Total params: 32,122\n",
      "Trainable params: 32,122\n",
      "Non-trainable params: 0\n",
      "----------------------------------------------------------------\n",
      "Input size (MB): 0.01\n",
      "Forward/backward pass size (MB): 0.40\n",
      "Params size (MB): 0.12\n",
      "Estimated Total Size (MB): 0.54\n",
      "----------------------------------------------------------------\n"
     ]
    }
   ],
   "source": [
    "from torchsummary import summary\n",
    "class ClassificationNet(torch.nn.Module):\n",
    "    def __init__(self, num_classes):\n",
    "        super().__init__()\n",
    "        self.pool = torch.nn.MaxPool2d(2, 2)\n",
    "        self.conv1 = torch.nn.Conv2d(in_channels=3, out_channels=16, kernel_size=3)\n",
    "        self.conv2 = torch.nn.Conv2d(in_channels=16, out_channels=32, kernel_size=3)\n",
    "        self.conv3 = torch.nn.Conv2d(in_channels=32, out_channels=32, kernel_size=3)\n",
    "        self.conv4 = torch.nn.Conv2d(in_channels=32, out_channels=16, kernel_size=3)\n",
    "        self.dropout = torch.nn.Dropout(p=0.5)\n",
    "        self.fc1 = torch.nn.Linear(400, 32)\n",
    "        self.fc2 = torch.nn.Linear(32, num_classes)\n",
    "    def forward(self, x):\n",
    "        x = F.relu(self.conv1(x))\n",
    "        x = self.pool(F.relu(self.conv2(x)))\n",
    "        x = F.relu(self.conv3(x))\n",
    "        x = self.pool(F.relu(self.conv4(x)))\n",
    "        x = torch.flatten(x, 1)\n",
    "        x = self.dropout(x)\n",
    "        embedding = F.relu(self.fc1(x))\n",
    "        output = self.fc2(embedding)\n",
    "        return output\n",
    "\n",
    "model = ClassificationNet(10).to(device)\n",
    "summary(model, input_size=(3, 32, 32))"
   ]
  },
  {
   "cell_type": "markdown",
   "id": "b785c76d-6452-47dc-bed3-42ea1e317b3a",
   "metadata": {},
   "source": [
    "##### Define PyTorch Dataset for Loading Data into Model\n",
    "Transformations are applied within the \\__getitem__ function. The Dataset consists of an image, the associated label, and a weight measuring importance for the sample."
   ]
  },
  {
   "cell_type": "code",
   "execution_count": 27,
   "id": "2afe271e-82c5-4fc8-92ec-e8ce2669e09c",
   "metadata": {
    "tags": []
   },
   "outputs": [],
   "source": [
    "class MNISTDataset(Dataset):\n",
    "    def __init__(self, X, y, weights, transform=None):\n",
    "        self.data = torch.tensor(X).type(torch.FloatTensor)\n",
    "        self.labels = torch.tensor(y).type(torch.LongTensor)\n",
    "        self.weights = torch.tensor(weights).type(torch.FloatTensor)\n",
    "        self.transform = transform\n",
    "\n",
    "\n",
    "    def __len__(self):\n",
    "        return len(self.data)\n",
    "\n",
    "    def __getitem__(self, idx):\n",
    "        img_arr = self.data[idx]\n",
    "        img_arr = torch.moveaxis(img_arr, -1, -3)\n",
    "        label = self.labels[idx]\n",
    "        weight = self.weights[idx]\n",
    "        if self.transform:\n",
    "            img_arr = self.transform(img_arr)\n",
    "        \n",
    "        return img_arr, label, weight"
   ]
  },
  {
   "cell_type": "markdown",
   "id": "25b83109-a9cd-4872-842d-6b02d8dcfe15",
   "metadata": {},
   "source": [
    "##### Define Functions for Model Training and Testing\n",
    "The train function trains the model and reports loss every 10 epochs and the test function is used to calculate accuracy on the test set of the model."
   ]
  },
  {
   "cell_type": "code",
   "execution_count": 28,
   "id": "f6d2f436-42cf-4df6-84e7-052734e4b66b",
   "metadata": {
    "tags": []
   },
   "outputs": [],
   "source": [
    "def train(model, train_dataloader, test_dataloader, optimizer, num_epochs=10):\n",
    "    for epoch in range(num_epochs):\n",
    "        loss_sum = 0\n",
    "        model.train()\n",
    "        for i, (img_arrs, labels, weights) in enumerate(train_dataloader):\n",
    "            optimizer.zero_grad() \n",
    "            output = model(img_arrs.to(device))               \n",
    "            loss = loss_func(output, labels.to(device))\n",
    "            loss = loss * weights.to(device)\n",
    "            loss = torch.mean(loss)\n",
    "            loss.backward()         \n",
    "            optimizer.step()\n",
    "            loss_sum += loss.detach().item()\n",
    "        if (epoch + 1) % 10 == 0:    \n",
    "            print ('Epoch [{}/{}], Loss: {:.4f}'.format(epoch + 1, num_epochs, loss_sum / len(train_dataloader)))\n",
    "        #test(model, test_dataloader)\n",
    "    \n",
    "def test(model, test_dataloader):\n",
    "    model.eval()\n",
    "    with torch.no_grad():\n",
    "        correct = 0\n",
    "        total = 0\n",
    "        for img_arrs, labels, weights in test_dataloader:\n",
    "            output = model(img_arrs.to(device))\n",
    "            pred_y = torch.max(output, 1)[1].data.squeeze().cpu()\n",
    "            correct += (pred_y == labels).sum().item() \n",
    "            total += labels.size(0)\n",
    "    print('Test Accuracy of the model on the test images: ', correct/total)\n",
    "    return correct/total"
   ]
  },
  {
   "cell_type": "markdown",
   "id": "3f518b77",
   "metadata": {},
   "source": [
    "The following is the training of the models in the three settings. This is shown to explain the underlying process. Model A trains the CNN only on data with known class labels,  Model B trains the CNN on data with known class labels and unlabelled data having labels inferred using KMeans clustering on embeddings. Finally, Model C trains the CNN on data with known class labels and unlabelled data having labels inferred using Model A. Note this is with M=5000. For models B and C, since the unlabelled data with inferred labels is less reliable than the data with ground truth labels available, these unlabelled samples are weighed less in the CrossEntropy loss function by a factor of 0.1."
   ]
  },
  {
   "cell_type": "markdown",
   "id": "68952b71-beb3-4c71-9532-459a0652d402",
   "metadata": {},
   "source": [
    "##### Model A: Train Model on only Data where Ground Truth Labels are Available.\n",
    "With M=5000, this model attains an accuracy of 50.66% on the test set."
   ]
  },
  {
   "cell_type": "code",
   "execution_count": 29,
   "id": "874098aa-765d-4186-98d7-05127fac26bd",
   "metadata": {
    "scrolled": true,
    "tags": []
   },
   "outputs": [
    {
     "name": "stdout",
     "output_type": "stream",
     "text": [
      "Epoch [10/50], Loss: 1.7592\n",
      "Epoch [20/50], Loss: 1.5979\n",
      "Epoch [30/50], Loss: 1.4763\n",
      "Epoch [40/50], Loss: 1.4301\n",
      "Epoch [50/50], Loss: 1.4072\n",
      "Test Accuracy of the model on the test images:  0.5066\n"
     ]
    },
    {
     "data": {
      "text/plain": [
       "0.5066"
      ]
     },
     "execution_count": 29,
     "metadata": {},
     "output_type": "execute_result"
    }
   ],
   "source": [
    "loss_func = torch.nn.CrossEntropyLoss(reduction='none')   \n",
    "train_dataloader = torch.utils.data.DataLoader(MNISTDataset(known_X, known_y, np.ones(known_y.shape), transform=train_transform), batch_size=128, shuffle=True, num_workers=8)\n",
    "test_dataloader = torch.utils.data.DataLoader(MNISTDataset(test_X, test_y, np.ones(test_y.shape)), batch_size=128, shuffle=False)\n",
    "model_a = ClassificationNet(10).to(device)\n",
    "optimizer = optim.Adam(model_a.parameters(), lr = 0.001)            \n",
    "train(model_a, train_dataloader, test_dataloader, optimizer, num_epochs=50)\n",
    "test(model_a, test_dataloader)"
   ]
  },
  {
   "cell_type": "markdown",
   "id": "b41d9360-d85a-412d-b036-3b0b00a2bf63",
   "metadata": {},
   "source": [
    "##### Model B: Train Model on Data where Ground Truth Labels are Available + Unlabelled Data where Label is Inferred from K-Means Clustering on EfficientNet Embeddings\n",
    "With M=5000, this model attains an accuracy of 55.23% on the test set. Notably, this is higher than the accuracy in Model A."
   ]
  },
  {
   "cell_type": "code",
   "execution_count": 30,
   "id": "182ba0f7-72af-457d-af52-608c41318b1f",
   "metadata": {
    "scrolled": true,
    "tags": []
   },
   "outputs": [
    {
     "name": "stdout",
     "output_type": "stream",
     "text": [
      "Epoch [10/50], Loss: 0.3165\n",
      "Epoch [20/50], Loss: 0.2925\n",
      "Epoch [30/50], Loss: 0.2814\n",
      "Epoch [40/50], Loss: 0.2737\n",
      "Epoch [50/50], Loss: 0.2685\n",
      "Test Accuracy of the model on the test images:  0.5523\n"
     ]
    },
    {
     "data": {
      "text/plain": [
       "0.5523"
      ]
     },
     "execution_count": 30,
     "metadata": {},
     "output_type": "execute_result"
    }
   ],
   "source": [
    "train_dataloader = torch.utils.data.DataLoader(MNISTDataset(np.append(known_X, unknown_X, axis=0), np.append(known_y, enet_labels, axis=0), np.append(np.ones(known_y.shape), 0.1*np.ones(enet_labels.shape), axis=0), transform=train_transform), batch_size=128, shuffle=True, num_workers=8)\n",
    "model_b = ClassificationNet(10).to(device)\n",
    "optimizer = optim.Adam(model_b.parameters(), lr = 0.001)   \n",
    "train(model_b, train_dataloader, test_dataloader, optimizer, num_epochs=50)\n",
    "test(model_b, test_dataloader)"
   ]
  },
  {
   "cell_type": "markdown",
   "id": "3dfca052-f5a0-49d0-9e0e-9a00981f31f7",
   "metadata": {},
   "source": [
    "##### Model C: Train Model on Data where Ground Truth Labels are Available + Unlabelled Data where Label is Inferred from First Trained Model Classifications\n",
    "First we observe that the accuracy of the inferred labels is 50.72%. Then, with M=5000, this model attains an accuracy of 53.51% on the test set. Notably, this is higher than the accuracy in Model A."
   ]
  },
  {
   "cell_type": "code",
   "execution_count": 31,
   "id": "a9342381-7f50-4073-afbe-fec2279fe20b",
   "metadata": {
    "tags": []
   },
   "outputs": [
    {
     "data": {
      "text/plain": [
       "0.5071555555555556"
      ]
     },
     "execution_count": 31,
     "metadata": {},
     "output_type": "execute_result"
    }
   ],
   "source": [
    "model_a.eval()\n",
    "\n",
    "unknown_dataloader = torch.utils.data.DataLoader(MNISTDataset(unknown_X, unknown_y, np.ones(unknown_y.shape)), batch_size=64, shuffle=False)\n",
    "model_a_unknown_predictions = []\n",
    "for images, labels, weights in unknown_dataloader:\n",
    "    output = model_a(images.to(device))\n",
    "    output = output.detach().cpu()\n",
    "    model_a_unknown_predictions.append(output)\n",
    "    \n",
    "model_a_unknown_predictions = np.concatenate(model_a_unknown_predictions)\n",
    "model_a_unknown_predictions = np.argmax(model_a_unknown_predictions, 1)\n",
    "np.sum(model_a_unknown_predictions == unknown_y)/len(unknown_y)"
   ]
  },
  {
   "cell_type": "code",
   "execution_count": 32,
   "id": "55cd5416-f87b-4796-8d9d-383c24a9b1f9",
   "metadata": {
    "scrolled": true,
    "tags": []
   },
   "outputs": [
    {
     "name": "stdout",
     "output_type": "stream",
     "text": [
      "Epoch [10/50], Loss: 0.2292\n",
      "Epoch [20/50], Loss: 0.2143\n",
      "Epoch [30/50], Loss: 0.2044\n",
      "Epoch [40/50], Loss: 0.2006\n",
      "Epoch [50/50], Loss: 0.1927\n",
      "Test Accuracy of the model on the test images:  0.5351\n"
     ]
    },
    {
     "data": {
      "text/plain": [
       "0.5351"
      ]
     },
     "execution_count": 32,
     "metadata": {},
     "output_type": "execute_result"
    }
   ],
   "source": [
    "train_dataloader = torch.utils.data.DataLoader(MNISTDataset(np.append(known_X, unknown_X, axis=0), np.append(known_y, model_a_unknown_predictions, axis=0), np.append(np.ones(known_y.shape), 0.1*np.ones(model_a_unknown_predictions.shape), axis=0), transform=train_transform), batch_size=128, shuffle=True, num_workers=8)\n",
    "model_c = ClassificationNet(10).to(device)\n",
    "optimizer = optim.Adam(model_c.parameters(), lr = 0.001)   \n",
    "train(model_c, train_dataloader, test_dataloader, optimizer, num_epochs=50)\n",
    "test(model_c, test_dataloader)"
   ]
  },
  {
   "cell_type": "markdown",
   "id": "6d898aee-2201-43fc-ba7f-73826c834ce0",
   "metadata": {},
   "source": [
    "##### Comparison of the three different models described above for different values of M. The code here is re-used from above."
   ]
  },
  {
   "cell_type": "code",
   "execution_count": 33,
   "id": "634e61f5-1d49-405b-b650-30e681f4bd82",
   "metadata": {
    "scrolled": true,
    "tags": []
   },
   "outputs": [
    {
     "name": "stdout",
     "output_type": "stream",
     "text": [
      "M: 500\n",
      "Num components: 33\n",
      "Labels used:\n"
     ]
    },
    {
     "data": {
      "text/plain": [
       "array([1, 2, 3, 4, 6, 7, 9])"
      ]
     },
     "metadata": {},
     "output_type": "display_data"
    },
    {
     "name": "stdout",
     "output_type": "stream",
     "text": [
      "\n",
      "Accuracy of clustering:\n"
     ]
    },
    {
     "data": {
      "text/plain": [
       "0.21294949494949494"
      ]
     },
     "metadata": {},
     "output_type": "display_data"
    },
    {
     "name": "stdout",
     "output_type": "stream",
     "text": [
      "Epoch [10/50], Loss: 2.0683\n",
      "Epoch [20/50], Loss: 1.9452\n",
      "Epoch [30/50], Loss: 1.8236\n",
      "Epoch [40/50], Loss: 1.7441\n",
      "Epoch [50/50], Loss: 1.6360\n",
      "Test Accuracy of the model on the test images:  0.3512\n",
      "Epoch [10/50], Loss: 0.1653\n",
      "Epoch [20/50], Loss: 0.1566\n",
      "Epoch [30/50], Loss: 0.1523\n",
      "Epoch [40/50], Loss: 0.1494\n",
      "Epoch [50/50], Loss: 0.1466\n",
      "Test Accuracy of the model on the test images:  0.2625\n",
      "Epoch [10/50], Loss: 0.0820\n",
      "Epoch [20/50], Loss: 0.0781\n",
      "Epoch [30/50], Loss: 0.0761\n",
      "Epoch [40/50], Loss: 0.0741\n",
      "Epoch [50/50], Loss: 0.0734\n",
      "Test Accuracy of the model on the test images:  0.352\n",
      "M: 1000\n",
      "Num components: 33\n",
      "Labels used:\n"
     ]
    },
    {
     "data": {
      "text/plain": [
       "array([0, 1, 3, 4, 5, 6, 7, 9])"
      ]
     },
     "metadata": {},
     "output_type": "display_data"
    },
    {
     "name": "stdout",
     "output_type": "stream",
     "text": [
      "\n",
      "Accuracy of clustering:\n"
     ]
    },
    {
     "data": {
      "text/plain": [
       "0.26710204081632655"
      ]
     },
     "metadata": {},
     "output_type": "display_data"
    },
    {
     "name": "stdout",
     "output_type": "stream",
     "text": [
      "Epoch [10/50], Loss: 2.0286\n",
      "Epoch [20/50], Loss: 1.8694\n",
      "Epoch [30/50], Loss: 1.7514\n",
      "Epoch [40/50], Loss: 1.6401\n",
      "Epoch [50/50], Loss: 1.5774\n",
      "Test Accuracy of the model on the test images:  0.384\n",
      "Epoch [10/50], Loss: 0.1920\n",
      "Epoch [20/50], Loss: 0.1814\n",
      "Epoch [30/50], Loss: 0.1769\n",
      "Epoch [40/50], Loss: 0.1734\n",
      "Epoch [50/50], Loss: 0.1709\n",
      "Test Accuracy of the model on the test images:  0.3598\n",
      "Epoch [10/50], Loss: 0.1084\n",
      "Epoch [20/50], Loss: 0.1020\n",
      "Epoch [30/50], Loss: 0.1011\n",
      "Epoch [40/50], Loss: 0.0983\n",
      "Epoch [50/50], Loss: 0.0957\n",
      "Test Accuracy of the model on the test images:  0.4019\n",
      "M: 2000\n",
      "Num components: 33\n",
      "Labels used:\n"
     ]
    },
    {
     "data": {
      "text/plain": [
       "array([2, 3, 4, 5, 6, 7, 8, 9])"
      ]
     },
     "metadata": {},
     "output_type": "display_data"
    },
    {
     "name": "stdout",
     "output_type": "stream",
     "text": [
      "\n",
      "Accuracy of clustering:\n"
     ]
    },
    {
     "data": {
      "text/plain": [
       "0.2795625"
      ]
     },
     "metadata": {},
     "output_type": "display_data"
    },
    {
     "name": "stdout",
     "output_type": "stream",
     "text": [
      "Epoch [10/50], Loss: 1.9150\n",
      "Epoch [20/50], Loss: 1.7249\n",
      "Epoch [30/50], Loss: 1.6619\n",
      "Epoch [40/50], Loss: 1.5756\n",
      "Epoch [50/50], Loss: 1.4921\n",
      "Test Accuracy of the model on the test images:  0.4328\n",
      "Epoch [10/50], Loss: 0.2273\n",
      "Epoch [20/50], Loss: 0.2124\n",
      "Epoch [30/50], Loss: 0.2080\n",
      "Epoch [40/50], Loss: 0.2037\n",
      "Epoch [50/50], Loss: 0.2002\n",
      "Test Accuracy of the model on the test images:  0.3831\n",
      "Epoch [10/50], Loss: 0.1461\n",
      "Epoch [20/50], Loss: 0.1378\n",
      "Epoch [30/50], Loss: 0.1336\n",
      "Epoch [40/50], Loss: 0.1284\n",
      "Epoch [50/50], Loss: 0.1272\n",
      "Test Accuracy of the model on the test images:  0.4656\n",
      "M: 5000\n",
      "Num components: 33\n",
      "Labels used:\n"
     ]
    },
    {
     "data": {
      "text/plain": [
       "array([0, 1, 2, 5, 6, 7, 8, 9])"
      ]
     },
     "metadata": {},
     "output_type": "display_data"
    },
    {
     "name": "stdout",
     "output_type": "stream",
     "text": [
      "\n",
      "Accuracy of clustering:\n"
     ]
    },
    {
     "data": {
      "text/plain": [
       "0.29617777777777776"
      ]
     },
     "metadata": {},
     "output_type": "display_data"
    },
    {
     "name": "stdout",
     "output_type": "stream",
     "text": [
      "Epoch [10/50], Loss: 1.7582\n",
      "Epoch [20/50], Loss: 1.5401\n",
      "Epoch [30/50], Loss: 1.4717\n",
      "Epoch [40/50], Loss: 1.4005\n",
      "Epoch [50/50], Loss: 1.3982\n",
      "Test Accuracy of the model on the test images:  0.5058\n",
      "Epoch [10/50], Loss: 0.3187\n",
      "Epoch [20/50], Loss: 0.3012\n",
      "Epoch [30/50], Loss: 0.2902\n",
      "Epoch [40/50], Loss: 0.2827\n",
      "Epoch [50/50], Loss: 0.2760\n",
      "Test Accuracy of the model on the test images:  0.5341\n",
      "Epoch [10/50], Loss: 0.2370\n",
      "Epoch [20/50], Loss: 0.2223\n",
      "Epoch [30/50], Loss: 0.2145\n",
      "Epoch [40/50], Loss: 0.2085\n",
      "Epoch [50/50], Loss: 0.2042\n",
      "Test Accuracy of the model on the test images:  0.5434\n",
      "M: 10000\n",
      "Num components: 33\n",
      "Labels used:\n"
     ]
    },
    {
     "data": {
      "text/plain": [
       "array([0, 1, 2, 5, 6, 7, 8, 9])"
      ]
     },
     "metadata": {},
     "output_type": "display_data"
    },
    {
     "name": "stdout",
     "output_type": "stream",
     "text": [
      "\n",
      "Accuracy of clustering:\n"
     ]
    },
    {
     "data": {
      "text/plain": [
       "0.295125"
      ]
     },
     "metadata": {},
     "output_type": "display_data"
    },
    {
     "name": "stdout",
     "output_type": "stream",
     "text": [
      "Epoch [10/50], Loss: 1.5723\n",
      "Epoch [20/50], Loss: 1.4050\n",
      "Epoch [30/50], Loss: 1.3268\n",
      "Epoch [40/50], Loss: 1.2647\n",
      "Epoch [50/50], Loss: 1.2144\n",
      "Test Accuracy of the model on the test images:  0.5723\n",
      "Epoch [10/50], Loss: 0.4396\n",
      "Epoch [20/50], Loss: 0.3999\n",
      "Epoch [30/50], Loss: 0.3819\n",
      "Epoch [40/50], Loss: 0.3719\n",
      "Epoch [50/50], Loss: 0.3647\n",
      "Test Accuracy of the model on the test images:  0.6306\n",
      "Epoch [10/50], Loss: 0.3400\n",
      "Epoch [20/50], Loss: 0.3054\n",
      "Epoch [30/50], Loss: 0.2895\n",
      "Epoch [40/50], Loss: 0.2805\n",
      "Epoch [50/50], Loss: 0.2679\n",
      "Test Accuracy of the model on the test images:  0.6212\n",
      "M: 20000\n",
      "Num components: 33\n",
      "Labels used:\n"
     ]
    },
    {
     "data": {
      "text/plain": [
       "array([0, 1, 3, 4, 5, 6, 7, 8, 9])"
      ]
     },
     "metadata": {},
     "output_type": "display_data"
    },
    {
     "name": "stdout",
     "output_type": "stream",
     "text": [
      "\n",
      "Accuracy of clustering:\n"
     ]
    },
    {
     "data": {
      "text/plain": [
       "0.2955333333333333"
      ]
     },
     "metadata": {},
     "output_type": "display_data"
    },
    {
     "name": "stdout",
     "output_type": "stream",
     "text": [
      "Epoch [10/50], Loss: 1.4311\n",
      "Epoch [20/50], Loss: 1.2444\n",
      "Epoch [30/50], Loss: 1.1427\n",
      "Epoch [40/50], Loss: 1.0747\n",
      "Epoch [50/50], Loss: 1.0348\n",
      "Test Accuracy of the model on the test images:  0.6509\n",
      "Epoch [10/50], Loss: 0.6477\n",
      "Epoch [20/50], Loss: 0.5832\n",
      "Epoch [30/50], Loss: 0.5526\n",
      "Epoch [40/50], Loss: 0.5384\n",
      "Epoch [50/50], Loss: 0.5153\n",
      "Test Accuracy of the model on the test images:  0.6865\n",
      "Epoch [10/50], Loss: 0.5828\n",
      "Epoch [20/50], Loss: 0.5109\n",
      "Epoch [30/50], Loss: 0.4734\n",
      "Epoch [40/50], Loss: 0.4557\n",
      "Epoch [50/50], Loss: 0.4341\n",
      "Test Accuracy of the model on the test images:  0.6665\n",
      "M: 40000\n",
      "Num components: 33\n",
      "Labels used:\n"
     ]
    },
    {
     "data": {
      "text/plain": [
       "array([0, 1, 2, 5, 6, 7, 8, 9])"
      ]
     },
     "metadata": {},
     "output_type": "display_data"
    },
    {
     "name": "stdout",
     "output_type": "stream",
     "text": [
      "\n",
      "Accuracy of clustering:\n"
     ]
    },
    {
     "data": {
      "text/plain": [
       "0.2947"
      ]
     },
     "metadata": {},
     "output_type": "display_data"
    },
    {
     "name": "stdout",
     "output_type": "stream",
     "text": [
      "Epoch [10/50], Loss: 1.3342\n",
      "Epoch [20/50], Loss: 1.1653\n",
      "Epoch [30/50], Loss: 1.0623\n",
      "Epoch [40/50], Loss: 0.9906\n",
      "Epoch [50/50], Loss: 0.9364\n",
      "Test Accuracy of the model on the test images:  0.6807\n",
      "Epoch [10/50], Loss: 1.1095\n",
      "Epoch [20/50], Loss: 0.9559\n",
      "Epoch [30/50], Loss: 0.8861\n",
      "Epoch [40/50], Loss: 0.8389\n",
      "Epoch [50/50], Loss: 0.8122\n",
      "Test Accuracy of the model on the test images:  0.6981\n",
      "Epoch [10/50], Loss: 1.0108\n",
      "Epoch [20/50], Loss: 0.8747\n",
      "Epoch [30/50], Loss: 0.8101\n",
      "Epoch [40/50], Loss: 0.7757\n",
      "Epoch [50/50], Loss: 0.7474\n",
      "Test Accuracy of the model on the test images:  0.7067\n"
     ]
    }
   ],
   "source": [
    "# M values to test\n",
    "M_vals = [500, 1000, 2000, 5000, 10000, 20000, 40000]\n",
    "model_a_accuracies = []\n",
    "model_b_accuracies = []\n",
    "model_c_accuracies = []\n",
    "\n",
    "for M in M_vals:\n",
    "    print(\"M:\", M)\n",
    "    known_X = train_X[:M]\n",
    "    unknown_X = train_X[M:]\n",
    "    known_y = known_labels = train_y[:M]\n",
    "    unknown_y = unknown_labels = train_y[M:]\n",
    "    \n",
    "    # Raw values are used for the pretrained models\n",
    "    train_X_raw = copy.deepcopy(train_X)\n",
    "\n",
    "    known_X = known_X / np.max(known_X)\n",
    "    unknown_X = unknown_X / np.max(unknown_X)\n",
    "\n",
    "    (train_img_pca, test_img_pca) = pca_reduction(variance=0.8)\n",
    "    known_img_pca = train_img_pca[:M]\n",
    "    unknown_img_pca = train_img_pca[M:]\n",
    "\n",
    "    enet_known = enet_embeddings[:M]\n",
    "    enet_unknown = enet_embeddings[M:]\n",
    "    enet_labels = run_clustering(enet_known, enet_unknown, known_y, unknown_y, runs=\"auto\", n_clusters=10, sample_size=M, num_labels=num_labels, seed=0)\n",
    "\n",
    "    loss_func = torch.nn.CrossEntropyLoss(reduction='none')   \n",
    "    \n",
    "    train_dataloader = torch.utils.data.DataLoader(MNISTDataset(known_X, known_y, np.ones(known_y.shape), transform=train_transform), batch_size=128, shuffle=True, num_workers=8)\n",
    "    test_dataloader = torch.utils.data.DataLoader(MNISTDataset(test_X, test_y, np.ones(test_y.shape)), batch_size=128, shuffle=False)\n",
    "    model_a = ClassificationNet(10).to(device)\n",
    "    optimizer = optim.Adam(model_a.parameters(), lr = 0.001)            \n",
    "    train(model_a, train_dataloader, test_dataloader, optimizer, num_epochs=50)\n",
    "    model_a_accuracies.append(test(model_a, test_dataloader))\n",
    "    \n",
    "    train_dataloader = torch.utils.data.DataLoader(MNISTDataset(np.append(known_X, unknown_X, axis=0), np.append(known_y, enet_labels, axis=0), np.append(np.ones(known_y.shape), 0.1*np.ones(enet_labels.shape), axis=0), transform=train_transform), batch_size=128, shuffle=True, num_workers=8)\n",
    "    model_b = ClassificationNet(10).to(device)\n",
    "    optimizer = optim.Adam(model_b.parameters(), lr = 0.001)   \n",
    "    train(model_b, train_dataloader, test_dataloader, optimizer, num_epochs=50)\n",
    "    model_b_accuracies.append(test(model_b, test_dataloader))\n",
    "    \n",
    "    model_a.eval()\n",
    "    unknown_dataloader = torch.utils.data.DataLoader(MNISTDataset(unknown_X, unknown_y, np.ones(unknown_y.shape)), batch_size=64, shuffle=False)\n",
    "    model_a_unknown_predictions = []\n",
    "    for images, labels, weights in unknown_dataloader:\n",
    "        output = model_a(images.to(device))\n",
    "        output = output.detach().cpu()\n",
    "        model_a_unknown_predictions.append(output)\n",
    "    model_a_unknown_predictions = np.concatenate(model_a_unknown_predictions)\n",
    "    model_a_unknown_predictions = np.argmax(model_a_unknown_predictions, 1)\n",
    "    \n",
    "    train_dataloader = torch.utils.data.DataLoader(MNISTDataset(np.append(known_X, unknown_X, axis=0), np.append(known_y, model_a_unknown_predictions, axis=0), np.append(np.ones(known_y.shape), 0.1*np.ones(model_a_unknown_predictions.shape), axis=0), transform=train_transform), batch_size=128, shuffle=True, num_workers=8)\n",
    "    model_c = ClassificationNet(10).to(device)\n",
    "    optimizer = optim.Adam(model_c.parameters(), lr = 0.001)   \n",
    "    train(model_c, train_dataloader, test_dataloader, optimizer, num_epochs=50)\n",
    "    model_c_accuracies.append(test(model_c, test_dataloader))"
   ]
  },
  {
   "cell_type": "markdown",
   "id": "9a51a28e",
   "metadata": {},
   "source": [
    "The following plot compares Models A, B, and C across different values of M. We observe that both models that make use of inferred labels (Model B and Model C) outperformed Model A, which only made use of the ground truth labels for training. This was true generally across different values of M (the number of datapoints with ground truth labels) ranging from 500 to 40000. However, Model B was more sensitive when the M value was low and performed poorly, but was otherwise taking turns trading the lead with Model C. Overall, Model C is much more robust across all values of M. \n",
    "\n",
    "Model B's poor performance with low values of M may be because the accuracy of the inferred labels from the clustering is low when M values are small. Model C's performance being superior to model A makes sense because Model C leverages Model A's predictions to make use of the unlabelled data. Model B and C trading leads is interesting because the accuracy of Model C's inferred labels are always greater than the accuracy of Model B's inferred labels. Perhaps there is a regularizing effect from Model B's less accurate inferred labels that explains Model B's occasional superior performance."
   ]
  },
  {
   "cell_type": "code",
   "execution_count": 34,
   "id": "2b9ace0c-bf30-423b-b4b0-968989a82b75",
   "metadata": {},
   "outputs": [
    {
     "data": {
      "image/png": "[encoded data removed]",
      "text/plain": [
       "<Figure size 432x288 with 1 Axes>"
      ]
     },
     "metadata": {
      "needs_background": "light"
     },
     "output_type": "display_data"
    }
   ],
   "source": [
    "plt.plot(M_vals, model_a_accuracies, label='Model A')\n",
    "plt.plot(M_vals, model_b_accuracies, label='Model B')\n",
    "plt.plot(M_vals, model_c_accuracies, label='Model C')\n",
    "plt.xlabel(\"M\")\n",
    "plt.ylabel(\"Accuracy\")\n",
    "plt.legend()\n",
    "plt.show()"
   ]
  },
  {
   "cell_type": "markdown",
   "id": "72739c17-53eb-48a4-a73c-07dfb366d90c",
   "metadata": {},
   "source": [
    "## Conclusions\n",
    "\n",
    "In conclusion, this project aimed to improve semi-supervised image classification using the CIFAR-10 dataset by leveraging unlabeled data. The project used clustering and iterative training to infer labels on unlabeled data and investigate whether this approach could improve the accuracy of a CNN model trained from scratch. The results of the experiments showed that adding inferred labels to unlabelled data in the training dataset improves the accuracy of the CNN model.\n",
    "\n",
    "Both models that make use of inferred labels (Model B and Model C) outperformed Model A, which only made use of the ground truth labels for training. This was true generally across different values of M (the number of datapoints with ground truth labels) ranging from 500 to 40000. However, Model B was more sensitive when the M value was low and performed poorly, but was otherwise taking turns trading the lead with Model C. Overall, Model C is much more robust across all values of M.\n",
    "\n",
    "These findings highlight the effectiveness of using inferred labels to leverage unlabeled data and improve the performance of a CNN model trained from scratch. Furthermore, the project's comparison of clustering using PCA to clustering using embeddings from pretrained models provides valuable insights into the most effective approach. In particular, embeddings are expected to capture more of the semantic information in the images compared to raw image features, thus leading to better clustering. Overall, this project provides a framework for improving image classification accuracy using semi-supervised learning and demonstrates the potential of leveraging unlabeled data to enhance the performance of deep learning models."
   ]
  },
  {
   "cell_type": "code",
   "execution_count": null,
   "id": "b57d0b09",
   "metadata": {},
   "outputs": [],
   "source": []
  }
 ],
 "metadata": {
  "kernelspec": {
   "display_name": "Python 3 (ipykernel)",
   "language": "python",
   "name": "python3"
  },
  "language_info": {
   "codemirror_mode": {
    "name": "ipython",
    "version": 3
   },
   "file_extension": ".py",
   "mimetype": "text/x-python",
   "name": "python",
   "nbconvert_exporter": "python",
   "pygments_lexer": "ipython3",
   "version": "3.9.7"
  },
  "toc-autonumbering": false
 },
 "nbformat": 4,
 "nbformat_minor": 5
}
